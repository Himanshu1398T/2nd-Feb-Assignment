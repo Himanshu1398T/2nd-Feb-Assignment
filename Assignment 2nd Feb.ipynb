{
 "cells": [
  {
   "cell_type": "markdown",
   "id": "2d044082",
   "metadata": {},
   "source": [
    "### Q1 What are the characteristics of the tuples? Is tuple immutable?\n",
    "\n",
    "\n",
    "Ans:\n",
    "    Tuples are ordered (indexed collection of data), Tuples can store duplicate values. Once data is assigned to a tuple, the       values cannot be changed.  Tuples allows duplicate values.\n",
    "    Yes, tuples are immutable.\n",
    "\n",
    "    \n",
    "\n"
   ]
  },
  {
   "cell_type": "markdown",
   "id": "7906d750",
   "metadata": {},
   "source": [
    "### Q2. What are the two tuple methods in python? Give an example of each method. Give a reason why tuples have only two in-built methods as compared to Lists\n",
    "\n",
    "Ans:\n",
    "    Tuples have 2 methods, nampley:\n",
    "       index() - Give the index of given value in the tuple\n",
    "       count() - Returns the frequency of occurrence of a specified value"
   ]
  },
  {
   "cell_type": "code",
   "execution_count": 12,
   "id": "3e6f1012",
   "metadata": {},
   "outputs": [
    {
     "data": {
      "text/plain": [
       "1"
      ]
     },
     "execution_count": 12,
     "metadata": {},
     "output_type": "execute_result"
    }
   ],
   "source": [
    "#Example (index()):\n",
    "\n",
    "x = (1, 2, 3, 4, 1, 1, 1, 4, 5)\n",
    "x.index(2)"
   ]
  },
  {
   "cell_type": "code",
   "execution_count": 13,
   "id": "94f32aaf",
   "metadata": {},
   "outputs": [
    {
     "name": "stdout",
     "output_type": "stream",
     "text": [
      "3\n"
     ]
    }
   ],
   "source": [
    "#Example (count())\n",
    "\n",
    "y = ('a', 'a', 'a', 'b', 'b', 'a', 'c', 'b')\n",
    "print(y.count('b'))"
   ]
  },
  {
   "cell_type": "markdown",
   "id": "f7ecaeb9",
   "metadata": {},
   "source": [
    "#### Tuple only have 2 methods as compared to about 12 methods in list, tuple being an immutable object can be considered a reason for this, majority of methods in list are for changing the list in some way, while all methods in tuple are only to check the index or the count of the values present in it. They by no means effect the tuple in any way."
   ]
  },
  {
   "cell_type": "markdown",
   "id": "d90e02fa",
   "metadata": {},
   "source": [
    "### Q3. Which collection datatypes in python do not allow duplicate items? Write a code using a set to remove duplicates from the given list.\n",
    "### List = [1, 1, 1, 2, 1, 3, 1, 4, 2, 1, 2, 2, 2, 3, 2, 4, 3, 1, 3, 2, 3, 3, 3, 4, 4, 1, 4, 2, 4, 3, 4, 4]\n",
    "\n",
    "Ans:\n",
    " A Set is a collection that cannot contain duplicate elements."
   ]
  },
  {
   "cell_type": "code",
   "execution_count": 19,
   "id": "7b927622",
   "metadata": {},
   "outputs": [],
   "source": [
    "#code to remove duplicates from the above list:\n",
    "\n",
    "List = [1, 1, 1, 2, 1, 3, 1, 4, 2, 1, 2, 2, 2, 3, 2, 4, 3, 1, 3, 2, 3, 3, 3, 4, 4, 1, 4, 2, 4, 3, 4, 4]\n",
    "x = set(List)"
   ]
  },
  {
   "cell_type": "code",
   "execution_count": 20,
   "id": "04c127e3",
   "metadata": {},
   "outputs": [
    {
     "data": {
      "text/plain": [
       "set"
      ]
     },
     "execution_count": 20,
     "metadata": {},
     "output_type": "execute_result"
    }
   ],
   "source": [
    "type(x)"
   ]
  },
  {
   "cell_type": "code",
   "execution_count": 22,
   "id": "9b66e358",
   "metadata": {},
   "outputs": [
    {
     "name": "stdout",
     "output_type": "stream",
     "text": [
      "{1, 2, 3, 4}\n"
     ]
    }
   ],
   "source": [
    "print(x)"
   ]
  },
  {
   "cell_type": "markdown",
   "id": "6cd4b4af",
   "metadata": {},
   "source": [
    "### Q4. Explain the difference between the union() and update() methods for a set. Give an example of each method.\n",
    "\n"
   ]
  },
  {
   "cell_type": "markdown",
   "id": "ae56fea5",
   "metadata": {},
   "source": [
    "#### Ans: \n",
    "union() - For union between 2 sets it returns a new set which consists of all the elements of both the sets such that no elements is repeated.</br>\n",
    "update() - It addes the argument to the set, the argument can be a set, list, tuple or a dictionary.\n",
    "\n",
    "#### Taking an example of set 's' and 'r'\n",
    "\n",
    "s.union(r) - it will create a new set consisting both values from s and t (non duplicate)\n",
    "\n",
    "s.update(r) - return set s with elements added from r."
   ]
  },
  {
   "cell_type": "code",
   "execution_count": 1,
   "id": "875a2da7",
   "metadata": {},
   "outputs": [
    {
     "name": "stdout",
     "output_type": "stream",
     "text": [
      "A U B: {2, 4, 5, 6, 7, 8}\n",
      "{1, 2, 3, 5, 6, 7}\n"
     ]
    }
   ],
   "source": [
    "# Examples\n",
    "# union()\n",
    "A = {2, 4, 5, 6}\n",
    "B = {4, 6, 7, 8}\n",
    "\n",
    "print(\"A U B:\", A.union(B))\n",
    "\n",
    "# update()\n",
    "set1= {1, 2, 3}\n",
    "set2 = {5, 6, 7}\n",
    "\n",
    "set1.update(set2)\n",
    "print(set1)"
   ]
  },
  {
   "cell_type": "markdown",
   "id": "5bcf1a85",
   "metadata": {},
   "source": [
    "### Q5. What is a dictionary? Give an example. Also, state whether a dictionary is ordered or unordered."
   ]
  },
  {
   "cell_type": "markdown",
   "id": "04951339",
   "metadata": {},
   "source": [
    "#### Ans: \n",
    "<p>Dictionary are used to store data values in key:value pairs, with the requirement that the keys are unique (within one dictionary). A pair of braces creates an empty dictionary: {}. Placing a comma-separated list of key:value pairs within the braces adds initial key:value pairs to the dictionary.</p>"
   ]
  },
  {
   "cell_type": "code",
   "execution_count": 2,
   "id": "3c07c087",
   "metadata": {
    "scrolled": true
   },
   "outputs": [
    {
     "name": "stdout",
     "output_type": "stream",
     "text": [
      "{1: 'This', 2: 'is', 3: 'a', 4: 'dictionary'}\n"
     ]
    }
   ],
   "source": [
    "# Example of dictionary\n",
    "Dict = {1: 'This', 2: 'is', 3: 'a', 4:'dictionary'}\n",
    "print(Dict)"
   ]
  },
  {
   "cell_type": "markdown",
   "id": "39f346f3",
   "metadata": {},
   "source": [
    "Dictionary is ordered as of python 3.7, In python 3.6 and earlier, dictionaries was unordered."
   ]
  },
  {
   "cell_type": "markdown",
   "id": "d2f126e1",
   "metadata": {},
   "source": [
    "### Q6. Can we create a nested dictionary? If so, please give an example by creating a simple one-level nested dictionary"
   ]
  },
  {
   "cell_type": "markdown",
   "id": "a345eb16",
   "metadata": {},
   "source": [
    "#### Ans:\n",
    "Yes we can create a nested dictionary.\n",
    "A nested dictionary is created the same way a normal dictionary  is created. The only difference is that each value is another\n",
    "dictionary."
   ]
  },
  {
   "cell_type": "code",
   "execution_count": 6,
   "id": "24beedcf",
   "metadata": {},
   "outputs": [
    {
     "name": "stdout",
     "output_type": "stream",
     "text": [
      "B\n"
     ]
    }
   ],
   "source": [
    "# Example:\n",
    "Name = {'emp1': {'name': 'A'},\n",
    "        'emp2': {'name': 'B'},\n",
    "        'emp3': {'name': 'C'}}\n",
    "\n",
    "print(Name['emp2']['name'])"
   ]
  },
  {
   "cell_type": "markdown",
   "id": "b678096c",
   "metadata": {},
   "source": [
    "### Q7. Using setdefault() method, create key named topics in the given dictionary and also add the value of the key as this list ['Python', 'Machine Learning’, 'Deep Learning'] \n",
    "### dict1 = {'language' : 'Python', 'course': 'Data Science Masters'}"
   ]
  },
  {
   "cell_type": "code",
   "execution_count": 7,
   "id": "ea542be1",
   "metadata": {},
   "outputs": [
    {
     "name": "stdout",
     "output_type": "stream",
     "text": [
      "{'language': 'Python', 'course': 'Data Science Masters', 'topics': ['Python', 'Machine Learning', 'Deep Learning']}\n"
     ]
    }
   ],
   "source": [
    "dict1 = {'language' : 'Python', 'course': 'Data Science Masters'}\n",
    "dict1.setdefault('topics',['Python', 'Machine Learning', 'Deep Learning'])\n",
    "print(dict1)                 "
   ]
  },
  {
   "cell_type": "markdown",
   "id": "be53421a",
   "metadata": {},
   "source": [
    "### Q8. What are the three view objects in dictionaries? Use the three in-built methods in python to display these three view objects for the given dictionary.\n",
    "\n",
    "### dict1 = {'Sport': 'Cricket' , 'Teams': ['India', 'Australia', 'England', 'South Africa', 'Sri Lanka', 'New Zealand']}"
   ]
  },
  {
   "cell_type": "markdown",
   "id": "4259f8d5",
   "metadata": {},
   "source": [
    "#### Ans:\n",
    "The 3 view objects in dictionaries are 'Keys, Values and Items'.\n",
    "Keys holds all the keys of the dictionary, the values objects holds all the values, whereas the items hold the key-value pairs."
   ]
  },
  {
   "cell_type": "code",
   "execution_count": 8,
   "id": "c782af97",
   "metadata": {},
   "outputs": [
    {
     "data": {
      "text/plain": [
       "dict_values(['Cricket', ['India', 'Australia', 'England', 'South Africa', 'Sri Lanka', 'New Zealand']])"
      ]
     },
     "execution_count": 8,
     "metadata": {},
     "output_type": "execute_result"
    }
   ],
   "source": [
    "dict1 = {'Sport': 'Cricket' , 'Teams': ['India', 'Australia', 'England', 'South Africa', 'Sri Lanka', 'New Zealand']}\n",
    "dict1.values()"
   ]
  },
  {
   "cell_type": "code",
   "execution_count": 9,
   "id": "c185b7ea",
   "metadata": {},
   "outputs": [
    {
     "data": {
      "text/plain": [
       "dict_items([('Sport', 'Cricket'), ('Teams', ['India', 'Australia', 'England', 'South Africa', 'Sri Lanka', 'New Zealand'])])"
      ]
     },
     "execution_count": 9,
     "metadata": {},
     "output_type": "execute_result"
    }
   ],
   "source": [
    "dict1.items()"
   ]
  },
  {
   "cell_type": "code",
   "execution_count": 11,
   "id": "b6d6dc9d",
   "metadata": {},
   "outputs": [
    {
     "data": {
      "text/plain": [
       "dict_keys(['Sport', 'Teams'])"
      ]
     },
     "execution_count": 11,
     "metadata": {},
     "output_type": "execute_result"
    }
   ],
   "source": [
    "dict1.keys()"
   ]
  }
 ],
 "metadata": {
  "kernelspec": {
   "display_name": "Python 3 (ipykernel)",
   "language": "python",
   "name": "python3"
  },
  "language_info": {
   "codemirror_mode": {
    "name": "ipython",
    "version": 3
   },
   "file_extension": ".py",
   "mimetype": "text/x-python",
   "name": "python",
   "nbconvert_exporter": "python",
   "pygments_lexer": "ipython3",
   "version": "3.9.13"
  }
 },
 "nbformat": 4,
 "nbformat_minor": 5
}
